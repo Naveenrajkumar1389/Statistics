{
  "nbformat": 4,
  "nbformat_minor": 0,
  "metadata": {
    "colab": {
      "provenance": [],
      "authorship_tag": "ABX9TyPYX3lQpx8D38zYymoZFdPE",
      "include_colab_link": true
    },
    "kernelspec": {
      "name": "python3",
      "display_name": "Python 3"
    },
    "language_info": {
      "name": "python"
    }
  },
  "cells": [
    {
      "cell_type": "markdown",
      "metadata": {
        "id": "view-in-github",
        "colab_type": "text"
      },
      "source": [
        "<a href=\"https://colab.research.google.com/github/Naveenrajkumar1389/Statistics/blob/main/RandomVariable.ipynb\" target=\"_parent\"><img src=\"https://colab.research.google.com/assets/colab-badge.svg\" alt=\"Open In Colab\"/></a>"
      ]
    },
    {
      "cell_type": "code",
      "execution_count": null,
      "metadata": {
        "colab": {
          "base_uri": "https://localhost:8080/"
        },
        "id": "zSODVZfwnU81",
        "outputId": "171d68c3-3c11-4edb-b5b8-d055652e531b"
      },
      "outputs": [
        {
          "output_type": "stream",
          "name": "stdout",
          "text": [
            "0.11511751159401618\n"
          ]
        }
      ],
      "source": [
        "import random\n",
        "\n",
        "def random_variable():\n",
        "  return random.random()\n",
        "\n",
        "print(random_variable())"
      ]
    },
    {
      "cell_type": "code",
      "source": [
        "def rolling_dice():\n",
        "  return random.randint(1,6)\n",
        "\n",
        "print(rolling_dice())"
      ],
      "metadata": {
        "colab": {
          "base_uri": "https://localhost:8080/"
        },
        "id": "2RT1waZ7oeeI",
        "outputId": "97169a7c-ac3c-41a4-ec24-0d5812432f58"
      },
      "execution_count": null,
      "outputs": [
        {
          "output_type": "stream",
          "name": "stdout",
          "text": [
            "2\n"
          ]
        }
      ]
    },
    {
      "cell_type": "code",
      "source": [
        "def flip_coin():\n",
        "  random_number= random.random()\n",
        "  if random_number < 0.5:\n",
        "    return \"heads\"\n",
        "  else:\n",
        "    return \"tails\"\n",
        "\n",
        "print(flip_coin())"
      ],
      "metadata": {
        "colab": {
          "base_uri": "https://localhost:8080/"
        },
        "id": "MYOPpNI4pseH",
        "outputId": "6b337f22-b07d-4aca-eac3-15a656f4b024"
      },
      "execution_count": null,
      "outputs": [
        {
          "output_type": "stream",
          "name": "stdout",
          "text": [
            "tails\n"
          ]
        }
      ]
    },
    {
      "cell_type": "code",
      "source": [
        "def draw_card():\n",
        "  suits=[\"Spades\",\"clubs\",\"Diamond\",\"Heart\"]\n",
        "  ranks=[\"2\",\"3\",\"4\",\"5\",\"6\",\"7\",\"8\",\"9\",\"10\",\"Jack\",\"Queen\",\"King\",\"Ace\"]\n",
        "\n",
        "  random_number=random.randint(1,52)\n",
        "  suit=suits[random_number // 13]\n",
        "  rank=ranks[random_number%13]\n",
        "  return f\"The {rank} of {suit}\"\n",
        "\n",
        "print(draw_card())"
      ],
      "metadata": {
        "colab": {
          "base_uri": "https://localhost:8080/"
        },
        "id": "JEESTCWorXp1",
        "outputId": "a220b9c4-66fb-4913-b97b-dcbfde99c726"
      },
      "execution_count": null,
      "outputs": [
        {
          "output_type": "stream",
          "name": "stdout",
          "text": [
            "The 6 of Diamond\n"
          ]
        }
      ]
    },
    {
      "cell_type": "code",
      "source": [
        "def roll_two_dice():\n",
        "  die1 = random.randint(1,6)\n",
        "  die2 = random.randint(1,6)\n",
        "  return die1 , die2\n",
        "\n",
        "print(roll_two_dice())"
      ],
      "metadata": {
        "colab": {
          "base_uri": "https://localhost:8080/"
        },
        "id": "yukHV9Jet_3b",
        "outputId": "d9712fb1-ee8e-4cba-a3f6-3f54e02ae0cf"
      },
      "execution_count": null,
      "outputs": [
        {
          "output_type": "stream",
          "name": "stdout",
          "text": [
            "(2, 5)\n"
          ]
        }
      ]
    }
  ]
}