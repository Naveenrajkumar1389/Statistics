{
  "nbformat": 4,
  "nbformat_minor": 0,
  "metadata": {
    "colab": {
      "provenance": [],
      "authorship_tag": "ABX9TyPC1HnROXJeiHqZrDbNqJry",
      "include_colab_link": true
    },
    "kernelspec": {
      "name": "python3",
      "display_name": "Python 3"
    },
    "language_info": {
      "name": "python"
    }
  },
  "cells": [
    {
      "cell_type": "markdown",
      "metadata": {
        "id": "view-in-github",
        "colab_type": "text"
      },
      "source": [
        "<a href=\"https://colab.research.google.com/github/Naveenrajkumar1389/Statistics/blob/main/Basic_Hypthesis_test.ipynb\" target=\"_parent\"><img src=\"https://colab.research.google.com/assets/colab-badge.svg\" alt=\"Open In Colab\"/></a>"
      ]
    },
    {
      "cell_type": "code",
      "execution_count": null,
      "metadata": {
        "colab": {
          "base_uri": "https://localhost:8080/"
        },
        "id": "5LiunsC4Cd5t",
        "outputId": "c1ec936d-a06d-45b3-97d8-93399d57a8bd"
      },
      "outputs": [
        {
          "output_type": "stream",
          "name": "stdout",
          "text": [
            "Reject the null hypothesis\n",
            "The new ice cream falvor is more popular tha old one\n",
            "t_statistic:8.22\n",
            "P-value:0.0000\n"
          ]
        }
      ],
      "source": [
        "import numpy as np\n",
        "from scipy import stats\n",
        "\n",
        "old_flavor_ratings =np.array([7.8, 8.2, 7.5, 8.0, 8.1, 7.9, 8.3, 7.6, 7.8, 7.7, 8.1, 7.9, 8.0, 7.7, 7.8, 8.2, 7.5, 8.1, 7.9, 8.0])\n",
        "\n",
        "new_flavor_ratings=np.array([8.5, 8.7, 8.8, 8.3, 8.9, 8.2, 8.6, 8.4, 8.7, 8.1, 8.4, 8.6, 8.5, 8.9, 8.3, 8.2, 8.7, 8.8, 8.4, 8.6])\n",
        "\n",
        "\n",
        "t_statistic, p_value = stats.ttest_rel(new_flavor_ratings, old_flavor_ratings)\n",
        "\n",
        "alpha = 0.05 #significance level\n",
        "\n",
        "if p_value < alpha:\n",
        "  print(\"Reject the null hypothesis\")\n",
        "  print(\"The new ice cream falvor is more popular tha old one\")\n",
        "else:\n",
        "  print(\"Fail to reject null hypothesis\")\n",
        "  print(\"There is not enough evidence to conclude that the new falvor is more popular\")\n",
        "\n",
        "print(f\"t_statistic:{t_statistic:.2f}\")\n",
        "print(f\"P-value:{p_value:.4f}\")"
      ]
    }
  ]
}