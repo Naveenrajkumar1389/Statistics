{
  "nbformat": 4,
  "nbformat_minor": 0,
  "metadata": {
    "colab": {
      "provenance": [],
      "authorship_tag": "ABX9TyOSh45GHC+glXfkyE81vtoY",
      "include_colab_link": true
    },
    "kernelspec": {
      "name": "python3",
      "display_name": "Python 3"
    },
    "language_info": {
      "name": "python"
    }
  },
  "cells": [
    {
      "cell_type": "markdown",
      "metadata": {
        "id": "view-in-github",
        "colab_type": "text"
      },
      "source": [
        "<a href=\"https://colab.research.google.com/github/Naveenrajkumar1389/Statistics/blob/main/Sample_mean_and_confidence_interval.ipynb\" target=\"_parent\"><img src=\"https://colab.research.google.com/assets/colab-badge.svg\" alt=\"Open In Colab\"/></a>"
      ]
    },
    {
      "cell_type": "code",
      "execution_count": null,
      "metadata": {
        "id": "GIYT2ZmJlJfI"
      },
      "outputs": [],
      "source": [
        "import numpy as np\n",
        "from scipy import stats\n",
        "\n"
      ]
    },
    {
      "cell_type": "code",
      "source": [
        "#step1: Sample data (satisfaction ratings from 100 customers at Branch A)\n",
        "sample_data = np.array([9, 8, 7, 8, 9, 9, 8, 7, 8, 8, 7, 8, 9, 8, 9, 7, 8, 9, 8, 8,\n",
        "                        9, 9, 8, 7, 7, 8, 8, 9, 8, 9, 7, 7, 9, 8, 8, 7, 8, 9, 9, 8,\n",
        "                        8, 9, 7, 8, 8, 9, 8, 7, 8, 8, 9, 9, 8, 8, 7, 9, 8, 8, 8, 9,\n",
        "                        7, 8, 9, 8, 7, 8, 8, 7, 9, 9, 8, 7, 8, 8, 9, 7, 8, 9, 8, 8,\n",
        "                        7, 8, 9, 9, 8, 8, 8, 7, 9, 8, 9, 7, 7, 8, 9, 9, 8, 7, 8, 8])"
      ],
      "metadata": {
        "id": "A6cRRRE2lWz9"
      },
      "execution_count": null,
      "outputs": []
    },
    {
      "cell_type": "code",
      "source": [
        "#step2 : find sample size and sample mean\n",
        "sample_size = len(sample_data)\n",
        "sample_mean =np.mean(sample_data)"
      ],
      "metadata": {
        "id": "R1Bz8QwKl9tG"
      },
      "execution_count": null,
      "outputs": []
    },
    {
      "cell_type": "code",
      "source": [
        "confidence_level=0.95\n",
        "\n",
        "standard_error = stats.sem(sample_data)\n",
        "margin_of_error=stats.t.ppf((1+confidence_level)/2,df=sample_size-1)*standard_error\n",
        "print(f\"Margin of error:{margin_of_error:.2f}\")"
      ],
      "metadata": {
        "colab": {
          "base_uri": "https://localhost:8080/"
        },
        "id": "gAxL53x0myxT",
        "outputId": "7357e6c4-d42c-4f18-bc60-5ebd02f2855c"
      },
      "execution_count": null,
      "outputs": [
        {
          "output_type": "stream",
          "name": "stdout",
          "text": [
            "Margin of error:0.14291705743606284\n"
          ]
        }
      ]
    },
    {
      "cell_type": "code",
      "source": [
        "lower_bound= sample_mean - margin_of_error\n",
        "upper_bound= sample_mean + margin_of_error\n",
        "\n",
        "print(f\"sample mean :{sample_mean:.2f}\")\n",
        "\n",
        "print(f\"confidence Internal :({lower_bound:.2f},{upper_bound:.2f})\")"
      ],
      "metadata": {
        "colab": {
          "base_uri": "https://localhost:8080/"
        },
        "id": "OHNzjxocokzY",
        "outputId": "73da42ac-83ce-4856-b8cc-64f6b9a5a37c"
      },
      "execution_count": null,
      "outputs": [
        {
          "output_type": "stream",
          "name": "stdout",
          "text": [
            "sample mean :8.08\n",
            "confidence Internal :(7.94,8.22)\n"
          ]
        }
      ]
    }
  ]
}